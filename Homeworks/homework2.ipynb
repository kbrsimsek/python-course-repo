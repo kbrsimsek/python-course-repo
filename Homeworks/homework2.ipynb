{
 "cells": [
  {
   "cell_type": "code",
   "execution_count": 19,
   "metadata": {},
   "outputs": [
    {
     "data": {
      "text/plain": [
       "{'NAME': 'KÜBRA', 'SURNAME': 'ŞİMŞEK'}"
      ]
     },
     "execution_count": 19,
     "metadata": {},
     "output_type": "execute_result"
    }
   ],
   "source": [
    "d1={\"NAME\":\"KÜBRA\",\"SURNAME\":\"ŞİMŞEK\"}\n",
    "print(d1)"
   ]
  },
  {
   "cell_type": "code",
   "execution_count": 5,
   "metadata": {},
   "outputs": [
    {
     "name": "stdout",
     "output_type": "stream",
     "text": [
      "{'EMAİL': 'kubrasimsek@outlook.com.tr'}\n"
     ]
    }
   ],
   "source": [
    "d2={\"EMAİL\":\"kubrasimsek@outlook.com.tr\"}\n",
    "print(d2)"
   ]
  },
  {
   "cell_type": "code",
   "execution_count": 10,
   "metadata": {},
   "outputs": [
    {
     "name": "stdout",
     "output_type": "stream",
     "text": [
      "{'EDUCATİON': 'LİCENSE'}\n"
     ]
    }
   ],
   "source": [
    "d3={\"EDUCATİON\":\"LİCENSE\"}\n",
    "print(d3)"
   ]
  },
  {
   "cell_type": "code",
   "execution_count": 13,
   "metadata": {},
   "outputs": [
    {
     "name": "stdout",
     "output_type": "stream",
     "text": [
      "{'COURSES': ['PYTHON', 'SQL', 'MACHİNELEARNİNG']}\n"
     ]
    }
   ],
   "source": [
    "d4={\"COURSES\":[\"PYTHON\",\"SQL\",\"MACHİNELEARNİNG\"]}\n",
    "print(d4)"
   ]
  },
  {
   "cell_type": "code",
   "execution_count": 15,
   "metadata": {},
   "outputs": [
    {
     "name": "stdout",
     "output_type": "stream",
     "text": [
      "{'HOBBİES': ['READİNG BOOKS', 'SPORT', 'WANDER', 'LEARNİNGNEWTHİNGS']}\n"
     ]
    }
   ],
   "source": [
    "d5={\"HOBBİES\":[\"READİNG BOOKS\",\"SPORT\",\"WANDER\",\"LEARNİNGNEWTHİNGS\"]}\n",
    "print(d5)"
   ]
  },
  {
   "cell_type": "code",
   "execution_count": 18,
   "metadata": {},
   "outputs": [
    {
     "name": "stdout",
     "output_type": "stream",
     "text": [
      "{'NAME': 'KÜBRA', 'SURNAME': 'ŞİMŞEK'} {'EMAİL': 'kubrasimsek@outlook.com.tr'} {'EDUCATİON': 'LİCENSE'} {'COURSES': ['PYTHON', 'SQL', 'MACHİNELEARNİNG']} {'HOBBİES': ['READİNG BOOKS', 'SPORT', 'WANDER', 'LEARNİNGNEWTHİNGS']}\n"
     ]
    }
   ],
   "source": [
    "print(d1, d2, d3, d4, d5)"
   ]
  },
  {
   "cell_type": "code",
   "execution_count": null,
   "metadata": {},
   "outputs": [],
   "source": []
  },
  {
   "cell_type": "code",
   "execution_count": null,
   "metadata": {},
   "outputs": [],
   "source": []
  },
  {
   "cell_type": "code",
   "execution_count": null,
   "metadata": {},
   "outputs": [],
   "source": []
  },
  {
   "cell_type": "code",
   "execution_count": null,
   "metadata": {},
   "outputs": [],
   "source": []
  },
  {
   "cell_type": "code",
   "execution_count": null,
   "metadata": {},
   "outputs": [],
   "source": []
  },
  {
   "cell_type": "code",
   "execution_count": null,
   "metadata": {},
   "outputs": [],
   "source": []
  },
  {
   "cell_type": "code",
   "execution_count": null,
   "metadata": {},
   "outputs": [],
   "source": []
  },
  {
   "cell_type": "code",
   "execution_count": null,
   "metadata": {},
   "outputs": [],
   "source": []
  }
 ],
 "metadata": {
  "kernelspec": {
   "display_name": "Python 3",
   "language": "python",
   "name": "python3"
  },
  "language_info": {
   "codemirror_mode": {
    "name": "ipython",
    "version": 3
   },
   "file_extension": ".py",
   "mimetype": "text/x-python",
   "name": "python",
   "nbconvert_exporter": "python",
   "pygments_lexer": "ipython3",
   "version": "3.8.3"
  }
 },
 "nbformat": 4,
 "nbformat_minor": 4
}
