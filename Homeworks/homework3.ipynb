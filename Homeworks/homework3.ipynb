{
 "cells": [
  {
   "cell_type": "code",
   "execution_count": 118,
   "metadata": {},
   "outputs": [
    {
     "name": "stdout",
     "output_type": "stream",
     "text": [
      "{'NAME': 'ALİ', 'MİDTERM': '60', 'PROJECT': '80', 'FİNAL': '85', 'passingGrade': 76.0}\n"
     ]
    }
   ],
   "source": [
    "d1={\"NAME\":\"ALİ\",\"MİDTERM\":\"60\",\"PROJECT\":\"80\",\"FİNAL\":\"85\",\n",
    "   \"passingGrade\": \n",
    "    float(60*0.3)+(80*0.3)+(85*0.4)}\n",
    "print(d1)"
   ]
  },
  {
   "cell_type": "code",
   "execution_count": 119,
   "metadata": {},
   "outputs": [
    {
     "name": "stdout",
     "output_type": "stream",
     "text": [
      "{'NAME': 'HASAN', 'MİDTERM': '70', 'PROJECT': '86', 'FİNAL': '95', 'passingGrade': 84.8}\n"
     ]
    }
   ],
   "source": [
    "d2={\"NAME\":\"HASAN\",\"MİDTERM\":\"70\",\"PROJECT\":\"86\",\"FİNAL\":\"95\", \"passingGrade\": \n",
    "    float(70*0.3)+(86*0.3)+(95*0.4)}\n",
    "print(d2)"
   ]
  },
  {
   "cell_type": "code",
   "execution_count": 120,
   "metadata": {},
   "outputs": [
    {
     "name": "stdout",
     "output_type": "stream",
     "text": [
      "{'NAME': 'MERVE', 'MİDTERM': '80', 'PROJECT': '90', 'FİNAL': '80', 'passingGrade': 83.0}\n"
     ]
    }
   ],
   "source": [
    "d3={\"NAME\":\"MERVE\",\"MİDTERM\":\"80\",\"PROJECT\":\"90\",\"FİNAL\":\"80\",  \"passingGrade\": \n",
    "    float(80*0.3)+(90*0.3)+(80*0.4)}\n",
    "print(d3)"
   ]
  },
  {
   "cell_type": "code",
   "execution_count": 121,
   "metadata": {},
   "outputs": [
    {
     "name": "stdout",
     "output_type": "stream",
     "text": [
      "{'NAME': 'DERYA', 'MİDTERM': '75', 'PROJECT': '92', 'FİNAL': '90', 'passingGrade': 86.1}\n"
     ]
    }
   ],
   "source": [
    "d4={\"NAME\":\"DERYA\",\"MİDTERM\":\"75\",\"PROJECT\":\"92\",\"FİNAL\":\"90\", \"passingGrade\": \n",
    "    float(75*0.3)+(92*0.3)+(90*0.4)}\n",
    "print(d4)"
   ]
  },
  {
   "cell_type": "code",
   "execution_count": 122,
   "metadata": {},
   "outputs": [
    {
     "name": "stdout",
     "output_type": "stream",
     "text": [
      "{'NAME': 'ASEL', 'MİDTERM': '50', 'PROJECT': '100', 'FİNAL': '90', 'passingGrade': 81.0}\n"
     ]
    }
   ],
   "source": [
    "d5={\"NAME\":\"ASEL\",\"MİDTERM\":\"50\",\"PROJECT\":\"100\",\"FİNAL\":\"90\", \"passingGrade\": \n",
    "    float(50*0.3)+(100*0.3)+(90*0.4)}\n",
    "print(d5)"
   ]
  },
  {
   "cell_type": "code",
   "execution_count": 123,
   "metadata": {},
   "outputs": [
    {
     "data": {
      "text/plain": [
       "(76.0, 84.8, 83.0, 86.1, 81.0)"
      ]
     },
     "execution_count": 123,
     "metadata": {},
     "output_type": "execute_result"
    }
   ],
   "source": [
    "d1[\"passingGrade\"],d2[\"passingGrade\"],d3[\"passingGrade\"],d4[\"passingGrade\"],d5[\"passingGrade\"]"
   ]
  },
  {
   "cell_type": "code",
   "execution_count": 124,
   "metadata": {},
   "outputs": [],
   "source": [
    "liste1=d1[\"passingGrade\"],d2[\"passingGrade\"],d3[\"passingGrade\"],d4[\"passingGrade\"],d5[\"passingGrade\"]"
   ]
  },
  {
   "cell_type": "code",
   "execution_count": 126,
   "metadata": {},
   "outputs": [],
   "source": [
    "liste1=list(liste1)"
   ]
  },
  {
   "cell_type": "code",
   "execution_count": 127,
   "metadata": {},
   "outputs": [
    {
     "data": {
      "text/plain": [
       "list"
      ]
     },
     "execution_count": 127,
     "metadata": {},
     "output_type": "execute_result"
    }
   ],
   "source": [
    "type(liste1)"
   ]
  },
  {
   "cell_type": "code",
   "execution_count": 128,
   "metadata": {},
   "outputs": [
    {
     "name": "stdout",
     "output_type": "stream",
     "text": [
      "[76.0, 81.0, 83.0, 84.8, 86.1]\n"
     ]
    }
   ],
   "source": [
    "liste1.sort()\n",
    "print(liste1)"
   ]
  },
  {
   "cell_type": "code",
   "execution_count": 129,
   "metadata": {},
   "outputs": [
    {
     "name": "stdout",
     "output_type": "stream",
     "text": [
      "[86.1, 84.8, 83.0, 81.0, 76.0]\n"
     ]
    }
   ],
   "source": [
    "liste1.reverse()\n",
    "print(liste1)"
   ]
  },
  {
   "cell_type": "code",
   "execution_count": null,
   "metadata": {},
   "outputs": [],
   "source": []
  },
  {
   "cell_type": "code",
   "execution_count": null,
   "metadata": {},
   "outputs": [],
   "source": []
  },
  {
   "cell_type": "code",
   "execution_count": null,
   "metadata": {},
   "outputs": [],
   "source": [
    "\n"
   ]
  },
  {
   "cell_type": "code",
   "execution_count": null,
   "metadata": {},
   "outputs": [],
   "source": []
  },
  {
   "cell_type": "code",
   "execution_count": null,
   "metadata": {},
   "outputs": [],
   "source": []
  },
  {
   "cell_type": "code",
   "execution_count": null,
   "metadata": {},
   "outputs": [],
   "source": []
  },
  {
   "cell_type": "code",
   "execution_count": null,
   "metadata": {},
   "outputs": [],
   "source": []
  }
 ],
 "metadata": {
  "kernelspec": {
   "display_name": "Python 3",
   "language": "python",
   "name": "python3"
  },
  "language_info": {
   "codemirror_mode": {
    "name": "ipython",
    "version": 3
   },
   "file_extension": ".py",
   "mimetype": "text/x-python",
   "name": "python",
   "nbconvert_exporter": "python",
   "pygments_lexer": "ipython3",
   "version": "3.8.3"
  }
 },
 "nbformat": 4,
 "nbformat_minor": 4
}
