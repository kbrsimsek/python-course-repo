{
 "cells": [
  {
   "cell_type": "markdown",
   "metadata": {},
   "source": [
    "# Knowledge Competition"
   ]
  },
  {
   "cell_type": "code",
   "execution_count": 1,
   "metadata": {},
   "outputs": [
    {
     "name": "stdin",
     "output_type": "stream",
     "text": [
      "Please enter a answer: a\n"
     ]
    },
    {
     "name": "stdout",
     "output_type": "stream",
     "text": [
      "congratulations you earned 10 points \n"
     ]
    }
   ],
   "source": [
    "question1={\"How many provinces are there in Turkey?\":\n",
    "[\"a=81\",\n",
    "\"b=82\",\n",
    "\"c=83\",\n",
    "\"d=84\"]}\n",
    "answer1 =str(input(\"Please enter a answer:\"))\n",
    "if answer1==\"a\":\n",
    "    print(\"congratulations you earned 10 points \")\n",
    "else:\n",
    "    print(\"wrong answer\")"
   ]
  },
  {
   "cell_type": "code",
   "execution_count": 2,
   "metadata": {},
   "outputs": [
    {
     "name": "stdin",
     "output_type": "stream",
     "text": [
      "Please enter a answer: b\n"
     ]
    },
    {
     "name": "stdout",
     "output_type": "stream",
     "text": [
      "congratulations you earned 10 points\n"
     ]
    }
   ],
   "source": [
    "question2={\"In what year was the national anthem announced?\":\n",
    "[\"a=1920\",\n",
    "\"b=1921\",\n",
    "\"c=1922\",\n",
    "\"d=1923\"]}\n",
    "answer2 =str(input(\"Please enter a answer:\"))\n",
    "if answer2==\"b\":\n",
    "    print(\"congratulations you earned 10 points\")\n",
    "else:\n",
    "    print(\"wrong answer\")"
   ]
  },
  {
   "cell_type": "code",
   "execution_count": 3,
   "metadata": {},
   "outputs": [
    {
     "name": "stdin",
     "output_type": "stream",
     "text": [
      "Please enter a answer c\n"
     ]
    },
    {
     "name": "stdout",
     "output_type": "stream",
     "text": [
      "congratulations you earned 10 points \n"
     ]
    }
   ],
   "source": [
    "questin3={\"What is the symbol of iron?\":\n",
    "[\"a=io\",\n",
    "\"b=au\",\n",
    "\"c=fe,\"\n",
    "\"d=ca\"]}\n",
    "answer3 =str(input(\"Please enter a answer\"))\n",
    "if answer3==\"c\":\n",
    "    print(\"congratulations you earned 10 points \")\n",
    "else:\n",
    "    print(\"wrong answer\")"
   ]
  },
  {
   "cell_type": "code",
   "execution_count": 4,
   "metadata": {},
   "outputs": [
    {
     "name": "stdin",
     "output_type": "stream",
     "text": [
      "Please enter a answer d\n"
     ]
    },
    {
     "name": "stdout",
     "output_type": "stream",
     "text": [
      "congratulations you earned 10 points \n"
     ]
    }
   ],
   "source": [
    "question4={\"How many bones are in the human body?\":\n",
    "[\"a=506\",\n",
    "\"b=406\",\n",
    "\"c=306\",\n",
    "\"d=206\"]}\n",
    "answer4=str(input(\"Please enter a answer\"))\n",
    "if answer4==\"d\":\n",
    "    print(\"congratulations you earned 10 points \")\n",
    "else:\n",
    "    print(\"wrong answer\")"
   ]
  },
  {
   "cell_type": "code",
   "execution_count": 5,
   "metadata": {},
   "outputs": [
    {
     "name": "stdin",
     "output_type": "stream",
     "text": [
      "Please enter a answer a\n"
     ]
    },
    {
     "name": "stdout",
     "output_type": "stream",
     "text": [
      "congratulations you earned 10 points \n"
     ]
    }
   ],
   "source": [
    "question5={\"Which one is a work of Victor Hugo?\":\n",
    "[\"a=Les Miserables\",\n",
    "\"b=Crime And Punishment\",\n",
    "\"c=The Sorrows of Young Werther\",\n",
    "\"d=Faust\"]}\n",
    "answer5=str(input(\"Please enter a answer\"))\n",
    "if answer5==\"a\":\n",
    "    print(\"congratulations you earned 10 points \")\n",
    "else:\n",
    "    print(\"wrong answer\")"
   ]
  },
  {
   "cell_type": "code",
   "execution_count": 6,
   "metadata": {},
   "outputs": [
    {
     "name": "stdin",
     "output_type": "stream",
     "text": [
      "Please enter a answer b\n"
     ]
    },
    {
     "name": "stdout",
     "output_type": "stream",
     "text": [
      "congratulations you earned 10 points \n"
     ]
    }
   ],
   "source": [
    "question6={\"What is the sum of the outer angles of the polygon?\":\n",
    "[\"a=180\",\n",
    "\"b=360\",\n",
    "\"c=540\",\n",
    "\"d=720\"]}\n",
    "answer6=str(input(\"Please enter a answer\"))\n",
    "if answer6==\"b\":\n",
    "    print(\"congratulations you earned 10 points \")\n",
    "else:\n",
    "    print(\"wrong answer\")"
   ]
  },
  {
   "cell_type": "code",
   "execution_count": 7,
   "metadata": {},
   "outputs": [
    {
     "name": "stdin",
     "output_type": "stream",
     "text": [
      "Please enter a answer b\n"
     ]
    },
    {
     "name": "stdout",
     "output_type": "stream",
     "text": [
      "wrong answer\n"
     ]
    }
   ],
   "source": [
    "question7={\"What number is not in roman numeral\":\n",
    "[\"a=0\",\n",
    "\"b=10\",\n",
    "\"c=100\",\n",
    "\"d=1000\"]}\n",
    "answer7=str(input(\"Please enter a answer\"))\n",
    "if answer7==\"a\":\n",
    "    print(\"congratulations you earned 10 points \")\n",
    "else:\n",
    "    print(\"wrong answer\")"
   ]
  },
  {
   "cell_type": "code",
   "execution_count": 8,
   "metadata": {},
   "outputs": [
    {
     "name": "stdin",
     "output_type": "stream",
     "text": [
      "Please enter a answer c\n"
     ]
    },
    {
     "name": "stdout",
     "output_type": "stream",
     "text": [
      "congratulations you earned 10 points \n"
     ]
    }
   ],
   "source": [
    "question8={\"Which of the following is the Abbreviated Name of the World Health Organization?\":\n",
    "[\"a=Uhw\",\n",
    "\"b=Unıcef\",\n",
    "\"c= Who\",\n",
    "\"d= Nato\"]}\n",
    "answer8=str(input(\"Please enter a answer\"))\n",
    "if answer8==\"c\":\n",
    "    print(\"congratulations you earned 10 points \")\n",
    "else:\n",
    "    print(\"wrong answer\")"
   ]
  },
  {
   "cell_type": "code",
   "execution_count": 9,
   "metadata": {},
   "outputs": [
    {
     "name": "stdin",
     "output_type": "stream",
     "text": [
      "Please enter a answer c\n"
     ]
    },
    {
     "name": "stdout",
     "output_type": "stream",
     "text": [
      "congratulations you earned 10 points \n"
     ]
    }
   ],
   "source": [
    "question9={\"How Many Seconds Is A Day?\":\n",
    "[\"a=86000\",\n",
    "\"b= 88600\",\n",
    "\"c=86400\",\n",
    "\"d= 84800\"]}\n",
    "answer9=str(input(\"Please enter a answer\"))\n",
    "if answer9==\"c\":\n",
    "    print(\"congratulations you earned 10 points \")\n",
    "else:\n",
    "    print(\"wrong answer\")"
   ]
  },
  {
   "cell_type": "code",
   "execution_count": 10,
   "metadata": {},
   "outputs": [
    {
     "name": "stdin",
     "output_type": "stream",
     "text": [
      "Please enter a answer b\n"
     ]
    },
    {
     "name": "stdout",
     "output_type": "stream",
     "text": [
      "congratulations you earned 10 points \n"
     ]
    }
   ],
   "source": [
    "question10={\"Which City Is Sacred By The Three Great Religions?\":\n",
    "[\"a=Mekka\",\n",
    "\"b=Jerusalem\",\n",
    "\"c=Rome\",\n",
    "\"d=Istanbul\"]}\n",
    "answer10=str(input(\"Please enter a answer\"))\n",
    "if answer10==\"b\":\n",
    "    print(\"congratulations you earned 10 points \")\n",
    "else:\n",
    "    print(\"wrong answer\")"
   ]
  },
  {
   "cell_type": "code",
   "execution_count": 11,
   "metadata": {},
   "outputs": [
    {
     "name": "stdin",
     "output_type": "stream",
     "text": [
      "Please enter your score 90\n"
     ]
    },
    {
     "name": "stdout",
     "output_type": "stream",
     "text": [
      "you succeeded\n"
     ]
    }
   ],
   "source": [
    "score=int(input(\"Please enter your score\"))\n",
    "if 0<=score<=100:\n",
    "    if score<=50:\n",
    "        print(\"you failed\")\n",
    "    else:\n",
    "        print(\"you succeeded\")"
   ]
  },
  {
   "cell_type": "code",
   "execution_count": null,
   "metadata": {},
   "outputs": [],
   "source": []
  },
  {
   "cell_type": "code",
   "execution_count": null,
   "metadata": {},
   "outputs": [],
   "source": []
  },
  {
   "cell_type": "code",
   "execution_count": null,
   "metadata": {},
   "outputs": [],
   "source": []
  },
  {
   "cell_type": "code",
   "execution_count": null,
   "metadata": {},
   "outputs": [],
   "source": []
  },
  {
   "cell_type": "code",
   "execution_count": null,
   "metadata": {},
   "outputs": [],
   "source": []
  },
  {
   "cell_type": "code",
   "execution_count": null,
   "metadata": {},
   "outputs": [],
   "source": []
  },
  {
   "cell_type": "code",
   "execution_count": null,
   "metadata": {},
   "outputs": [],
   "source": []
  },
  {
   "cell_type": "code",
   "execution_count": null,
   "metadata": {},
   "outputs": [],
   "source": []
  },
  {
   "cell_type": "code",
   "execution_count": null,
   "metadata": {},
   "outputs": [],
   "source": []
  }
 ],
 "metadata": {
  "kernelspec": {
   "display_name": "Python 3",
   "language": "python",
   "name": "python3"
  },
  "language_info": {
   "codemirror_mode": {
    "name": "ipython",
    "version": 3
   },
   "file_extension": ".py",
   "mimetype": "text/x-python",
   "name": "python",
   "nbconvert_exporter": "python",
   "pygments_lexer": "ipython3",
   "version": "3.8.3"
  }
 },
 "nbformat": 4,
 "nbformat_minor": 4
}
